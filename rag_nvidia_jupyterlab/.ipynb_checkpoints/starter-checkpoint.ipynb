{
 "cells": [
  {
   "cell_type": "code",
   "execution_count": 1,
   "id": "c9b00dca-e6d8-4eb5-838b-860ce0680b28",
   "metadata": {},
   "outputs": [
    {
     "name": "stdout",
     "output_type": "stream",
     "text": [
      "C:\\Users\\rifat\\anaconda3\\envs\\venv\\python.exe\n"
     ]
    }
   ],
   "source": [
    "import sys\n",
    "print(sys.executable)"
   ]
  },
  {
   "cell_type": "code",
   "execution_count": 2,
   "id": "c929f5f0-e3be-4d8d-b31e-27e25d7b8d25",
   "metadata": {},
   "outputs": [
    {
     "name": "stdout",
     "output_type": "stream",
     "text": [
      "This is just a simple print statement\n"
     ]
    }
   ],
   "source": [
    "# Highlight this cell and click [Shift+Enter] to execute\n",
    "print('This is just a simple print statement')"
   ]
  },
  {
   "cell_type": "code",
   "execution_count": 3,
   "id": "226bec7b-c109-421f-bd7e-b2170d5e4fb9",
   "metadata": {},
   "outputs": [],
   "source": [
    "from getpass import getpass\n",
    "from pydantic import SecretStr"
   ]
  },
  {
   "cell_type": "code",
   "execution_count": 4,
   "id": "71e58279-5306-4227-b44e-1b89a7b11747",
   "metadata": {
    "editable": true,
    "slideshow": {
     "slide_type": ""
    },
    "tags": []
   },
   "outputs": [
    {
     "name": "stdin",
     "output_type": "stream",
     "text": [
      "Enter your name:  rifat\n"
     ]
    },
    {
     "name": "stdout",
     "output_type": "stream",
     "text": [
      "Hello rifat\n",
      "\n"
     ]
    },
    {
     "name": "stdin",
     "output_type": "stream",
     "text": [
      "Please tell me a secret:  ········\n"
     ]
    },
    {
     "name": "stdout",
     "output_type": "stream",
     "text": [
      "Your secret is: **********\n"
     ]
    }
   ],
   "source": [
    "\n",
    "\n",
    "first_name = input(\"Enter your name: \")\n",
    "print(f\"Hello {first_name}\\n\")   ## F-strings. Commonly used to fill in variables\n",
    "\n",
    "secret = SecretStr(getpass(\"Please tell me a secret: \"))\n",
    "print(\"Your secret is:\", secret)  ## Another way to print multiple values. sep=\" \" is default\n",
    "# print(\"Your secret value is:\", secret.get_secret_value())"
   ]
  },
  {
   "cell_type": "code",
   "execution_count": 5,
   "id": "acc1abab-e5d4-49d0-b3fa-c5163db51592",
   "metadata": {
    "editable": true,
    "slideshow": {
     "slide_type": ""
    },
    "tags": []
   },
   "outputs": [
    {
     "name": "stdout",
     "output_type": "stream",
     "text": [
      "HelloWorld\n",
      "5 8\n",
      "11\n",
      "invalid syntax (<string>, line 1)\n"
     ]
    },
    {
     "data": {
      "text/plain": [
       "\"HELLO RIFAT!! It's so nice to meet you!\""
      ]
     },
     "execution_count": 5,
     "metadata": {},
     "output_type": "execute_result"
    }
   ],
   "source": [
    "################################################################################\n",
    "## Implicit string concatenation. Interpretted as `print( \"Hello\" \"World\" )`\n",
    "print(\n",
    "    \"Hello\" \"World\"\n",
    ")\n",
    "\n",
    "################################################################################\n",
    "## Implicit string concatenation. Interpretted as `print( \"5\" \" \" \"8\" )`\n",
    "print((\n",
    "    \"5\" \" \"\n",
    "    \"8\"\n",
    "))\n",
    "\n",
    "print(\n",
    "    5 +\n",
    "    6\n",
    ")\n",
    "\n",
    "################################################################################\n",
    "## The below line is considered bad syntax, and the cell will fail to evaluate\n",
    "# 5 +\n",
    "# 6\n",
    "\n",
    "################################################################################\n",
    "## The following forcefully tries to run contents of the following line:\n",
    "try:\n",
    "    eval(\"5 + \\n6\")\n",
    "except Exception as e:\n",
    "    print(e)\n",
    "\n",
    "################################################################################\n",
    "## Useful example, where lines can be commented out to remove functionality:\n",
    "(\n",
    "    f\"Hello {first_name}\"\n",
    "        .upper()\n",
    "        + '!!'\n",
    "        # '!!!'    ## Uncomment to add even more. Useful for organizing\n",
    "        ' It\\'s so nice to meet you!'\n",
    "\n",
    ")"
   ]
  },
  {
   "cell_type": "code",
   "execution_count": 6,
   "id": "93801063-d11a-4289-be9e-82c9425ed293",
   "metadata": {},
   "outputs": [
    {
     "name": "stderr",
     "output_type": "stream",
     "text": [
      "WARNING:root:USER_AGENT environment variable not set, consider setting it to identify your requests.\n"
     ]
    }
   ],
   "source": [
    "\n",
    "import os\n",
    "from langchain_nvidia_ai_endpoints import NVIDIAEmbeddings, ChatNVIDIA\n",
    "from langchain_community.document_loaders import WebBaseLoader\n",
    "from langchain.embeddings import OllamaEmbeddings\n",
    "from langchain.text_splitter import RecursiveCharacterTextSplitter\n",
    "from langchain.chains.combine_documents import create_stuff_documents_chain\n",
    "from langchain_core.prompts import ChatPromptTemplate\n",
    "from langchain_core.output_parsers import StrOutputParser\n",
    "from langchain.chains import create_retrieval_chain\n",
    "from langchain_community.vectorstores import FAISS\n",
    "from langchain_community.document_loaders import PyPDFDirectoryLoader\n",
    "import time\n"
   ]
  },
  {
   "cell_type": "code",
   "execution_count": 7,
   "id": "717d842f-5e70-4a3d-b694-75179af3da44",
   "metadata": {},
   "outputs": [],
   "source": [
    "# Load environment variables\n",
    "from dotenv import load_dotenv\n",
    "import os\n",
    "\n",
    "load_dotenv()\n",
    "\n",
    "nvidia_api_key = os.getenv('NVIDIA_API_KEY')\n",
    "\n",
    "if nvidia_api_key is None:\n",
    "    raise ValueError(\"NVIDIA_API_KEY not found in .env file\")\n",
    "\n",
    "os.environ['NVIDIA_API_KEY'] = nvidia_api_key"
   ]
  },
  {
   "cell_type": "code",
   "execution_count": 8,
   "id": "de441d0d-20a5-4c20-a69a-9ade12b0979d",
   "metadata": {},
   "outputs": [],
   "source": [
    "# Document ingestion and vector store creation\n",
    "from langchain_nvidia_ai_endpoints import NVIDIAEmbeddings, ChatNVIDIA\n",
    "from langchain_community.document_loaders import PyPDFDirectoryLoader\n",
    "from langchain.text_splitter import RecursiveCharacterTextSplitter\n",
    "from langchain_community.vectorstores import FAISS\n",
    "\n",
    "# Initialize embeddings and loader\n",
    "embeddings = NVIDIAEmbeddings()\n",
    "loader = PyPDFDirectoryLoader(\"./US_Census\")\n",
    "\n",
    "# Load documents\n",
    "docs = loader.load()\n",
    "\n",
    "# Split documents into chunks\n",
    "text_splitter = RecursiveCharacterTextSplitter(chunk_size=700, chunk_overlap=50)\n",
    "final_documents = text_splitter.split_documents(docs[:30])\n",
    "\n",
    "# Create FAISS vector store\n",
    "vectors = FAISS.from_documents(final_documents, embeddings)\n"
   ]
  },
  {
   "cell_type": "code",
   "execution_count": 9,
   "id": "afed8e8c-c07c-49fa-82a9-4d3f128dde86",
   "metadata": {},
   "outputs": [],
   "source": [
    "# Define the prompt and LLM\n",
    "from langchain_core.prompts import ChatPromptTemplate\n",
    "from langchain_core.output_parsers import StrOutputParser\n",
    "from langchain.chains.combine_documents import create_stuff_documents_chain\n",
    "from langchain.chains import create_retrieval_chain\n",
    "\n",
    "# Initialize the LLM\n",
    "llm = ChatNVIDIA(model=\"meta/llama3-70b-instruct\")\n",
    "\n",
    "# Define the prompt template\n",
    "prompt_template = \"\"\"\n",
    "Answer the questions based on the provided context only.\n",
    "Please provide the most accurate response based on the question.\n",
    "<context>\n",
    "{context}\n",
    "<context>\n",
    "Questions:{input}\n",
    "\"\"\"\n",
    "prompt = ChatPromptTemplate.from_template(prompt_template)\n"
   ]
  },
  {
   "cell_type": "code",
   "execution_count": 10,
   "id": "3ee043d8-9dce-4a71-88c3-bdd5c649db72",
   "metadata": {},
   "outputs": [],
   "source": [
    "# Implement the retrieval chain\n",
    "import time\n",
    "\n",
    "def answer_question(query):\n",
    "    # Create the document chain\n",
    "    document_chain = create_stuff_documents_chain(llm, prompt)\n",
    "    # Get the retriever\n",
    "    retriever = vectors.as_retriever()\n",
    "    # Create the retrieval chain\n",
    "    retrieval_chain = create_retrieval_chain(retriever, document_chain)\n",
    "    \n",
    "    # Measure the response time\n",
    "    start = time.process_time()\n",
    "    response = retrieval_chain.invoke({'input': query})\n",
    "    end_time = time.process_time() - start\n",
    "    \n",
    "    return response, end_time"
   ]
  },
  {
   "cell_type": "code",
   "execution_count": null,
   "id": "a7eb9e6e-0b57-4427-a3ed-384e42c57238",
   "metadata": {},
   "outputs": [
    {
     "name": "stderr",
     "output_type": "stream",
     "text": [
      "C:\\Users\\rifat\\anaconda3\\envs\\venv\\lib\\site-packages\\tqdm\\auto.py:21: TqdmWarning: IProgress not found. Please update jupyter and ipywidgets. See https://ipywidgets.readthedocs.io/en/stable/user_install.html\n",
      "  from .autonotebook import tqdm as notebook_tqdm\n"
     ]
    },
    {
     "name": "stdout",
     "output_type": "stream",
     "text": [
      "Running on local URL:  http://127.0.0.1:7860\n",
      "\n",
      "To create a public link, set `share=True` in `launch()`.\n"
     ]
    },
    {
     "data": {
      "text/html": [
       "<div><iframe src=\"http://127.0.0.1:7860/\" width=\"100%\" height=\"500\" allow=\"autoplay; camera; microphone; clipboard-read; clipboard-write;\" frameborder=\"0\" allowfullscreen></iframe></div>"
      ],
      "text/plain": [
       "<IPython.core.display.HTML object>"
      ]
     },
     "metadata": {},
     "output_type": "display_data"
    }
   ],
   "source": [
    "# Create Gradio Interface\n",
    "import gradio as gr\n",
    "\n",
    "def generate_answer(query):\n",
    "    response, response_time = answer_question(query)\n",
    "    answer = response['answer']\n",
    "    context_docs = \"\\n\\n\".join([doc.page_content for doc in response[\"context\"]])\n",
    "    return f\"Answer:\\n{answer}\\n\\nResponse Time: {response_time} seconds\\n\\nContext Documents:\\n{context_docs}\"\n",
    "\n",
    "iface = gr.Interface(\n",
    "    fn=generate_answer,\n",
    "    inputs=\"text\",\n",
    "    outputs=\"text\",\n",
    "    title=\"Nvidia NIM Demo\",\n",
    "    description=\"Ask questions about the documents\"\n",
    ")\n",
    "\n",
    "iface.launch(debug=True)"
   ]
  },
  {
   "cell_type": "code",
   "execution_count": null,
   "id": "a2d76b43-1786-4c73-8165-04f81a96c295",
   "metadata": {},
   "outputs": [],
   "source": [
    "# Create Gradio Interface\n",
    "import gradio as gr\n",
    "\n",
    "\n",
    "# Define Gradio Interface functions\n",
    "def embed_documents():\n",
    "    global vectors\n",
    "    vectors = FAISS.from_documents(final_documents, embeddings)\n",
    "    return \"Vector Store DB Is Ready\"\n",
    "\n",
    "def generate_answer(query):\n",
    "    response, response_time = answer_question(query)\n",
    "    answer = response['answer']\n",
    "    context_docs = \"\\n\\n\".join([doc.page_content for doc in response[\"context\"]])\n",
    "    return f\"Answer:\\n{answer}\\n\\nResponse Time: {response_time} seconds\\n\\nContext Documents:\\n{context_docs}\"\n",
    "\n",
    "# Create Gradio Interface\n",
    "with gr.Blocks() as demo:\n",
    "    gr.Markdown(\"# Nvidia NIM Demo\")\n",
    "    query_input = gr.Textbox(label=\"Enter Your Question From Documents\")\n",
    "    embed_button = gr.Button(\"Documents Embedding\")\n",
    "    output_text = gr.Textbox(label=\"Output\", interactive=False)\n",
    "\n",
    "    embed_button.click(embed_documents, inputs=None, outputs=output_text)\n",
    "    query_input.submit(generate_answer, inputs=query_input, outputs=output_text)\n",
    "\n",
    "demo.launch()"
   ]
  },
  {
   "cell_type": "code",
   "execution_count": null,
   "id": "86fa4506-500c-4433-ba45-f7f294452802",
   "metadata": {},
   "outputs": [],
   "source": []
  }
 ],
 "metadata": {
  "kernelspec": {
   "display_name": "Python 3 (ipykernel)",
   "language": "python",
   "name": "python3"
  },
  "language_info": {
   "codemirror_mode": {
    "name": "ipython",
    "version": 3
   },
   "file_extension": ".py",
   "mimetype": "text/x-python",
   "name": "python",
   "nbconvert_exporter": "python",
   "pygments_lexer": "ipython3",
   "version": "3.10.14"
  }
 },
 "nbformat": 4,
 "nbformat_minor": 5
}
